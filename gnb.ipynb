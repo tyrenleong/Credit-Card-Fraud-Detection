{
 "cells": [
  {
   "cell_type": "code",
   "execution_count": 1,
   "metadata": {},
   "outputs": [],
   "source": [
    "from pyspark.sql import SparkSession\n",
    "from pyspark.ml.classification import NaiveBayes\n",
    "from pyspark.ml.evaluation import MulticlassClassificationEvaluator\n",
    "from pyspark.ml.feature import VectorAssembler\n",
    "from pyspark.ml.linalg import Vectors\n",
    "from pyspark.sql.functions import rand\n",
    "\n",
    "import pyspark.sql.types as tp"
   ]
  },
  {
   "cell_type": "code",
   "execution_count": 2,
   "metadata": {},
   "outputs": [
    {
     "name": "stderr",
     "output_type": "stream",
     "text": [
      "25/02/17 18:55:23 WARN Utils: Your hostname, Tyrens-MacBook-Air.local resolves to a loopback address: 127.0.0.1; using 192.168.68.108 instead (on interface en0)\n",
      "25/02/17 18:55:23 WARN Utils: Set SPARK_LOCAL_IP if you need to bind to another address\n",
      "Setting default log level to \"WARN\".\n",
      "To adjust logging level use sc.setLogLevel(newLevel). For SparkR, use setLogLevel(newLevel).\n",
      "25/02/17 18:55:23 WARN NativeCodeLoader: Unable to load native-hadoop library for your platform... using builtin-java classes where applicable\n"
     ]
    }
   ],
   "source": [
    "spark = SparkSession.builder \\\n",
    "    .master(\"local[*]\") \\\n",
    "    .appName(\"CC Fraud Detection via GNB\") \\\n",
    "    .getOrCreate()"
   ]
  },
  {
   "cell_type": "markdown",
   "metadata": {},
   "source": [
    "Schema to change datatype to float to take less memory"
   ]
  },
  {
   "cell_type": "code",
   "execution_count": 3,
   "metadata": {},
   "outputs": [],
   "source": [
    "my_schema = tp.StructType([\n",
    "    tp.StructField(name = \"distance_from_home\", dataType=tp.FloatType(), nullable=True),\n",
    "    tp.StructField(name = \"distance_from_last_transaction\", dataType=tp.FloatType(), nullable=True),\n",
    "    tp.StructField(name = \"ratio_to_median_purchase_price\", dataType=tp.FloatType(), nullable=True),\n",
    "    tp.StructField(name = \"repeat_retailer\", dataType=tp.FloatType(), nullable=True),\n",
    "    tp.StructField(name = \"used_chip\", dataType=tp.FloatType(), nullable=True),\n",
    "    tp.StructField(name = \"used_pin_number\", dataType=tp.FloatType(), nullable=True),\n",
    "    tp.StructField(name = \"online_order\", dataType=tp.FloatType(), nullable=True),\n",
    "    tp.StructField(name = \"fraud\", dataType=tp.FloatType(), nullable=True)\n",
    "])"
   ]
  },
  {
   "cell_type": "code",
   "execution_count": 4,
   "metadata": {},
   "outputs": [
    {
     "name": "stdout",
     "output_type": "stream",
     "text": [
      "root\n",
      " |-- distance_from_home: float (nullable = true)\n",
      " |-- distance_from_last_transaction: float (nullable = true)\n",
      " |-- ratio_to_median_purchase_price: float (nullable = true)\n",
      " |-- repeat_retailer: float (nullable = true)\n",
      " |-- used_chip: float (nullable = true)\n",
      " |-- used_pin_number: float (nullable = true)\n",
      " |-- online_order: float (nullable = true)\n",
      " |-- fraud: float (nullable = true)\n",
      "\n",
      "+------------------+------------------------------+------------------------------+---------------+---------+---------------+------------+-----+\n",
      "|distance_from_home|distance_from_last_transaction|ratio_to_median_purchase_price|repeat_retailer|used_chip|used_pin_number|online_order|fraud|\n",
      "+------------------+------------------------------+------------------------------+---------------+---------+---------------+------------+-----+\n",
      "|         57.877857|                       0.31114|                       1.94594|            1.0|      1.0|            0.0|         0.0|  0.0|\n",
      "+------------------+------------------------------+------------------------------+---------------+---------+---------------+------------+-----+\n",
      "only showing top 1 row\n",
      "\n",
      "# of columns: 8\n",
      "# of rows: 1000000\n"
     ]
    }
   ],
   "source": [
    "df = spark.read.csv('card_transdata.csv',schema= my_schema,header= True)\n",
    "df.printSchema()\n",
    "df.show(1)\n",
    "print(\"# of columns:\",len(df.columns))\n",
    "print(\"# of rows:\", df.count())"
   ]
  },
  {
   "cell_type": "code",
   "execution_count": 5,
   "metadata": {},
   "outputs": [],
   "source": [
    "df.createOrReplaceTempView(\"card_data\")"
   ]
  },
  {
   "cell_type": "markdown",
   "metadata": {},
   "source": [
    "Check if there are any rows with NULL values"
   ]
  },
  {
   "cell_type": "code",
   "execution_count": 6,
   "metadata": {},
   "outputs": [
    {
     "name": "stdout",
     "output_type": "stream",
     "text": [
      "+------------------+------------------------------+------------------------------+---------------+---------+---------------+------------+-----+\n",
      "|distance_from_home|distance_from_last_transaction|ratio_to_median_purchase_price|repeat_retailer|used_chip|used_pin_number|online_order|fraud|\n",
      "+------------------+------------------------------+------------------------------+---------------+---------+---------------+------------+-----+\n",
      "+------------------+------------------------------+------------------------------+---------------+---------+---------------+------------+-----+\n",
      "\n"
     ]
    }
   ],
   "source": [
    "query = \"SELECT * \\\n",
    "         FROM card_data \\\n",
    "         WHERE distance_from_home IS NULL \\\n",
    "            OR distance_from_last_transaction IS NULL \\\n",
    "            OR ratio_to_median_purchase_price IS NULL \\\n",
    "            OR repeat_retailer IS NULL \\\n",
    "            OR used_chip IS NULL \\\n",
    "            OR used_pin_number IS NULL \\\n",
    "            OR online_order IS NULL\"\n",
    "missing_data = spark.sql(query)\n",
    "\n",
    "missing_data.show()"
   ]
  },
  {
   "cell_type": "markdown",
   "metadata": {},
   "source": [
    "Some explanatory data analysis"
   ]
  },
  {
   "cell_type": "code",
   "execution_count": 7,
   "metadata": {},
   "outputs": [
    {
     "name": "stdout",
     "output_type": "stream",
     "text": [
      "# of rows with fraud 87403\n",
      "Fraud percentage: 8.7403%\n",
      "# of rows without fraud: 912597\n",
      "# of rows with fraud and is an online order: 82711\n",
      "# of rows with fraud and chip is used: 22410\n",
      "# of rows with fraud and is a repeated retailer: 76925\n"
     ]
    }
   ],
   "source": [
    "query = \"SELECT * \\\n",
    "         FROM card_data \\\n",
    "         WHERE fraud = 1.0\"\n",
    "\n",
    "print(\"# of rows with fraud\", spark.sql(query).count())\n",
    "print(f\"Fraud percentage: {spark.sql(query).count()/df.count()*100}%\")\n",
    "\n",
    "query = \"SELECT * \\\n",
    "         FROM card_data \\\n",
    "         WHERE fraud = 0.0\"\n",
    "print(\"# of rows without fraud:\",spark.sql(query).count())\n",
    "\n",
    "query = \"SELECT * \\\n",
    "         FROM card_data \\\n",
    "         WHERE fraud = 1.0 \\\n",
    "         AND online_order = 1.0\"\n",
    "print(\"# of rows with fraud and is an online order:\",spark.sql(query).count())\n",
    "\n",
    "query = \"SELECT * \\\n",
    "         FROM card_data \\\n",
    "         WHERE fraud = 1.0 \\\n",
    "         AND used_chip = 1.0\"\n",
    "print(\"# of rows with fraud and chip is used:\",spark.sql(query).count())\n",
    "\n",
    "query = \"SELECT * \\\n",
    "         FROM card_data \\\n",
    "         WHERE fraud = 1.0 \\\n",
    "         AND repeat_retailer = 1.0\"\n",
    "print(\"# of rows with fraud and is a repeated retailer:\",spark.sql(query).count())"
   ]
  },
  {
   "cell_type": "markdown",
   "metadata": {},
   "source": [
    "Shuffle and split dataset"
   ]
  },
  {
   "cell_type": "code",
   "execution_count": 9,
   "metadata": {},
   "outputs": [
    {
     "name": "stdout",
     "output_type": "stream",
     "text": [
      "Total # of rows: 1000000\n"
     ]
    },
    {
     "name": "stderr",
     "output_type": "stream",
     "text": [
      "                                                                                \r"
     ]
    },
    {
     "name": "stdout",
     "output_type": "stream",
     "text": [
      "Training # of rows: 800221\n"
     ]
    },
    {
     "name": "stderr",
     "output_type": "stream",
     "text": [
      "                                                                                \r"
     ]
    },
    {
     "name": "stdout",
     "output_type": "stream",
     "text": [
      "Testing # of rows: 199706\n"
     ]
    }
   ],
   "source": [
    "df = df.orderBy(rand(seed = 42))\n",
    "train_data, test_data = df.randomSplit([.8, .2], seed=42)\n",
    "print(\"Total # of rows:\", df.count())\n",
    "print(\"Training # of rows:\", train_data.count())\n",
    "print(\"Testing # of rows:\", test_data.count())"
   ]
  },
  {
   "cell_type": "markdown",
   "metadata": {},
   "source": [
    "Fraud column is the label col, while the rest are feature cols\n",
    "PySpark ML algorithms expect input data in a single vector "
   ]
  },
  {
   "cell_type": "code",
   "execution_count": 10,
   "metadata": {},
   "outputs": [],
   "source": [
    "feature = [\"distance_from_home\", \"distance_from_last_transaction\",\n",
    "                \"ratio_to_median_purchase_price\", \"repeat_retailer\",\n",
    "                \"used_chip\", \"used_pin_number\", \"online_order\"]\n",
    "vectorAssembler = VectorAssembler(inputCols=feature, outputCol=\"features\")"
   ]
  },
  {
   "cell_type": "markdown",
   "metadata": {},
   "source": [
    "Training data and testing data into a single vector"
   ]
  },
  {
   "cell_type": "code",
   "execution_count": 11,
   "metadata": {},
   "outputs": [],
   "source": [
    "train_data = vectorAssembler.transform(train_data).select(\"features\", \"fraud\")\n",
    "test_data = vectorAssembler.transform(test_data).select(\"features\", \"fraud\")\n"
   ]
  },
  {
   "cell_type": "code",
   "execution_count": 12,
   "metadata": {},
   "outputs": [
    {
     "name": "stderr",
     "output_type": "stream",
     "text": [
      "                                                                                \r"
     ]
    },
    {
     "name": "stdout",
     "output_type": "stream",
     "text": [
      "Row(features=DenseVector([0.0049, 0.1981, 0.9981, 0.0, 0.0, 0.0, 1.0]), fraud=0.0)\n"
     ]
    },
    {
     "name": "stderr",
     "output_type": "stream",
     "text": [
      "                                                                                \r"
     ]
    },
    {
     "name": "stdout",
     "output_type": "stream",
     "text": [
      "Row(features=DenseVector([0.0314, 6.0155, 2.5488, 0.0, 0.0, 0.0, 1.0]), fraud=0.0)\n"
     ]
    }
   ],
   "source": [
    "sample_row = train_data.select(\"features\", \"fraud\").first()\n",
    "print(sample_row)\n",
    "sample_row = test_data.select(\"features\", \"fraud\").first()\n",
    "print(sample_row)"
   ]
  },
  {
   "cell_type": "markdown",
   "metadata": {},
   "source": [
    "Train Model"
   ]
  },
  {
   "cell_type": "code",
   "execution_count": 13,
   "metadata": {},
   "outputs": [
    {
     "name": "stderr",
     "output_type": "stream",
     "text": [
      "                                                                                \r"
     ]
    }
   ],
   "source": [
    "gnb = NaiveBayes(featuresCol=\"features\", labelCol=\"fraud\")\n",
    "gnb_model = gnb.fit(train_data)\n"
   ]
  },
  {
   "cell_type": "code",
   "execution_count": 14,
   "metadata": {},
   "outputs": [],
   "source": [
    "train_pred = gnb_model.transform(train_data)\n",
    "test_pred = gnb_model.transform(test_data)"
   ]
  },
  {
   "cell_type": "markdown",
   "metadata": {},
   "source": [
    "Accuracy"
   ]
  },
  {
   "cell_type": "code",
   "execution_count": 15,
   "metadata": {},
   "outputs": [
    {
     "name": "stderr",
     "output_type": "stream",
     "text": [
      "25/02/17 18:57:11 WARN InstanceBuilder: Failed to load implementation from:dev.ludovic.netlib.blas.JNIBLAS\n",
      "[Stage 133:>                                                        (0 + 8) / 8]\r"
     ]
    },
    {
     "name": "stdout",
     "output_type": "stream",
     "text": [
      "Train Accuracy: 0.9200651305422505\n",
      "Test Accuracy: 0.9206018680735617\n"
     ]
    },
    {
     "name": "stderr",
     "output_type": "stream",
     "text": [
      "                                                                                \r"
     ]
    }
   ],
   "source": [
    "evaluator = MulticlassClassificationEvaluator(\n",
    "    labelCol=\"fraud\", \\\n",
    "    predictionCol=\"prediction\", \\\n",
    "    metricName=\"accuracy\"\n",
    ")\n",
    "\n",
    "train_acc = evaluator.evaluate(train_pred)\n",
    "test_acc = evaluator.evaluate(test_pred)\n",
    "\n",
    "print(f\"Train Accuracy: {train_acc}\")\n",
    "print(f\"Test Accuracy: {test_acc}\")"
   ]
  },
  {
   "cell_type": "code",
   "execution_count": 16,
   "metadata": {},
   "outputs": [],
   "source": [
    "spark.stop()"
   ]
  }
 ],
 "metadata": {
  "kernelspec": {
   "display_name": "base",
   "language": "python",
   "name": "python3"
  },
  "language_info": {
   "codemirror_mode": {
    "name": "ipython",
    "version": 3
   },
   "file_extension": ".py",
   "mimetype": "text/x-python",
   "name": "python",
   "nbconvert_exporter": "python",
   "pygments_lexer": "ipython3",
   "version": "3.11.7"
  }
 },
 "nbformat": 4,
 "nbformat_minor": 2
}
