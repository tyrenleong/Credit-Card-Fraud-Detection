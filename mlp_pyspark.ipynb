{
 "cells": [
  {
   "cell_type": "code",
   "execution_count": 1,
   "metadata": {},
   "outputs": [],
   "source": [
    "from pyspark.sql import SparkSession\n",
    "from pyspark.ml.classification import MultilayerPerceptronClassifier\n",
    "from pyspark.ml.evaluation import MulticlassClassificationEvaluator\n",
    "from pyspark.ml.feature import VectorAssembler\n",
    "from pyspark.ml.linalg import Vectors\n",
    "from pyspark.sql.functions import rand\n",
    "\n",
    "import pyspark.sql.types as tp"
   ]
  },
  {
   "cell_type": "code",
   "execution_count": 2,
   "metadata": {},
   "outputs": [
    {
     "name": "stderr",
     "output_type": "stream",
     "text": [
      "Setting default log level to \"WARN\".\n",
      "To adjust logging level use sc.setLogLevel(newLevel). For SparkR, use setLogLevel(newLevel).\n",
      "25/02/18 17:08:34 WARN NativeCodeLoader: Unable to load native-hadoop library for your platform... using builtin-java classes where applicable\n"
     ]
    }
   ],
   "source": [
    "spark = SparkSession.builder \\\n",
    "    .master(\"local[*]\") \\\n",
    "    .appName(\"CC Fraud Detection via MLP\") \\\n",
    "    .config(\"spark.executor.extraJavaOptions\", \"-Dcom.github.fommil.netlib.BLAS=com.github.fommil.netlib.F2jBLAS\") \\\n",
    "    .getOrCreate()"
   ]
  },
  {
   "cell_type": "markdown",
   "metadata": {},
   "source": [
    "Schema to change datatype to float to take less memory"
   ]
  },
  {
   "cell_type": "code",
   "execution_count": 3,
   "metadata": {},
   "outputs": [],
   "source": [
    "my_schema = tp.StructType([\n",
    "    tp.StructField(name = \"distance_from_home\", dataType=tp.FloatType(), nullable=True),\n",
    "    tp.StructField(name = \"distance_from_last_transaction\", dataType=tp.FloatType(), nullable=True),\n",
    "    tp.StructField(name = \"ratio_to_median_purchase_price\", dataType=tp.FloatType(), nullable=True),\n",
    "    tp.StructField(name = \"repeat_retailer\", dataType=tp.FloatType(), nullable=True),\n",
    "    tp.StructField(name = \"used_chip\", dataType=tp.FloatType(), nullable=True),\n",
    "    tp.StructField(name = \"used_pin_number\", dataType=tp.FloatType(), nullable=True),\n",
    "    tp.StructField(name = \"online_order\", dataType=tp.FloatType(), nullable=True),\n",
    "    tp.StructField(name = \"fraud\", dataType=tp.FloatType(), nullable=True)\n",
    "])"
   ]
  },
  {
   "cell_type": "code",
   "execution_count": 4,
   "metadata": {},
   "outputs": [
    {
     "name": "stdout",
     "output_type": "stream",
     "text": [
      "root\n",
      " |-- distance_from_home: float (nullable = true)\n",
      " |-- distance_from_last_transaction: float (nullable = true)\n",
      " |-- ratio_to_median_purchase_price: float (nullable = true)\n",
      " |-- repeat_retailer: float (nullable = true)\n",
      " |-- used_chip: float (nullable = true)\n",
      " |-- used_pin_number: float (nullable = true)\n",
      " |-- online_order: float (nullable = true)\n",
      " |-- fraud: float (nullable = true)\n",
      "\n",
      "+------------------+------------------------------+------------------------------+---------------+---------+---------------+------------+-----+\n",
      "|distance_from_home|distance_from_last_transaction|ratio_to_median_purchase_price|repeat_retailer|used_chip|used_pin_number|online_order|fraud|\n",
      "+------------------+------------------------------+------------------------------+---------------+---------+---------------+------------+-----+\n",
      "|         57.877857|                       0.31114|                       1.94594|            1.0|      1.0|            0.0|         0.0|  0.0|\n",
      "+------------------+------------------------------+------------------------------+---------------+---------+---------------+------------+-----+\n",
      "only showing top 1 row\n",
      "\n",
      "# of columns: 8\n",
      "# of rows: 1000000\n"
     ]
    }
   ],
   "source": [
    "df = spark.read.csv('card_transdata.csv',schema= my_schema,header= True)\n",
    "df.printSchema()\n",
    "df.show(1)\n",
    "print(\"# of columns:\",len(df.columns))\n",
    "print(\"# of rows:\", df.count())"
   ]
  },
  {
   "cell_type": "code",
   "execution_count": 5,
   "metadata": {},
   "outputs": [],
   "source": [
    "df.createOrReplaceTempView(\"card_data\")"
   ]
  },
  {
   "cell_type": "markdown",
   "metadata": {},
   "source": [
    "Check if there are any rows with NULL values"
   ]
  },
  {
   "cell_type": "code",
   "execution_count": 6,
   "metadata": {},
   "outputs": [
    {
     "name": "stdout",
     "output_type": "stream",
     "text": [
      "+------------------+------------------------------+------------------------------+---------------+---------+---------------+------------+-----+\n",
      "|distance_from_home|distance_from_last_transaction|ratio_to_median_purchase_price|repeat_retailer|used_chip|used_pin_number|online_order|fraud|\n",
      "+------------------+------------------------------+------------------------------+---------------+---------+---------------+------------+-----+\n",
      "+------------------+------------------------------+------------------------------+---------------+---------+---------------+------------+-----+\n",
      "\n"
     ]
    }
   ],
   "source": [
    "query = \"SELECT * \\\n",
    "         FROM card_data \\\n",
    "         WHERE distance_from_home IS NULL \\\n",
    "            OR distance_from_last_transaction IS NULL \\\n",
    "            OR ratio_to_median_purchase_price IS NULL \\\n",
    "            OR repeat_retailer IS NULL \\\n",
    "            OR used_chip IS NULL \\\n",
    "            OR used_pin_number IS NULL \\\n",
    "            OR online_order IS NULL\"\n",
    "missing_data = spark.sql(query)\n",
    "\n",
    "missing_data.show()"
   ]
  },
  {
   "cell_type": "markdown",
   "metadata": {},
   "source": [
    "Shuffle and split dataset"
   ]
  },
  {
   "cell_type": "code",
   "execution_count": 7,
   "metadata": {},
   "outputs": [
    {
     "name": "stdout",
     "output_type": "stream",
     "text": [
      "Total # of rows: 1000000\n"
     ]
    },
    {
     "name": "stderr",
     "output_type": "stream",
     "text": [
      "                                                                                \r"
     ]
    },
    {
     "name": "stdout",
     "output_type": "stream",
     "text": [
      "Training # of rows: 800330\n"
     ]
    },
    {
     "name": "stderr",
     "output_type": "stream",
     "text": [
      "[Stage 18:==================================================>       (7 + 1) / 8]\r"
     ]
    },
    {
     "name": "stdout",
     "output_type": "stream",
     "text": [
      "Testing # of rows: 199749\n"
     ]
    },
    {
     "name": "stderr",
     "output_type": "stream",
     "text": [
      "                                                                                \r"
     ]
    }
   ],
   "source": [
    "df = df.orderBy(rand(seed = 42))\n",
    "train_data, test_data = df.randomSplit([.8, .2], seed=42)\n",
    "print(\"Total # of rows:\", df.count())\n",
    "print(\"Training # of rows:\", train_data.count())\n",
    "print(\"Testing # of rows:\", test_data.count())"
   ]
  },
  {
   "cell_type": "markdown",
   "metadata": {},
   "source": [
    "Fraud column is the label col, while the rest are feature cols\n",
    "PySpark ML algorithms expect input data in a single vector "
   ]
  },
  {
   "cell_type": "code",
   "execution_count": 8,
   "metadata": {},
   "outputs": [],
   "source": [
    "feature = [\"distance_from_home\", \"distance_from_last_transaction\",\n",
    "                \"ratio_to_median_purchase_price\", \"repeat_retailer\",\n",
    "                \"used_chip\", \"used_pin_number\", \"online_order\"]\n",
    "vectorAssembler = VectorAssembler(inputCols=feature, outputCol=\"features\")"
   ]
  },
  {
   "cell_type": "markdown",
   "metadata": {},
   "source": [
    "Training data and testing data into a single vector"
   ]
  },
  {
   "cell_type": "code",
   "execution_count": 9,
   "metadata": {},
   "outputs": [],
   "source": [
    "train_data = vectorAssembler.transform(train_data).select(\"features\", \"fraud\")\n",
    "test_data = vectorAssembler.transform(test_data).select(\"features\", \"fraud\")\n"
   ]
  },
  {
   "cell_type": "code",
   "execution_count": 10,
   "metadata": {},
   "outputs": [
    {
     "name": "stderr",
     "output_type": "stream",
     "text": [
      "                                                                                \r"
     ]
    },
    {
     "name": "stdout",
     "output_type": "stream",
     "text": [
      "+-------------------------------------------------------------------------+-----+\n",
      "|features                                                                 |fraud|\n",
      "+-------------------------------------------------------------------------+-----+\n",
      "|(7,[0,1,2],[0.0304512158036232,14.45405101776123,0.4479562044143677])    |0.0  |\n",
      "|(7,[0,1,2],[0.030510978773236275,0.2940792441368103,0.38904786109924316])|0.0  |\n",
      "+-------------------------------------------------------------------------+-----+\n",
      "only showing top 2 rows\n",
      "\n"
     ]
    },
    {
     "name": "stderr",
     "output_type": "stream",
     "text": [
      "[Stage 29:=======>                                                  (1 + 7) / 8]\r"
     ]
    },
    {
     "name": "stdout",
     "output_type": "stream",
     "text": [
      "+----------------------------------------------------------------------------+-----+\n",
      "|features                                                                    |fraud|\n",
      "+----------------------------------------------------------------------------+-----+\n",
      "|(7,[0,1,2],[0.03167009726166725,0.5118361115455627,2.4324018955230713])     |0.0  |\n",
      "|[0.040437523275613785,5.006600379943848,0.08538206666707993,0.0,1.0,0.0,1.0]|0.0  |\n",
      "+----------------------------------------------------------------------------+-----+\n",
      "only showing top 2 rows\n",
      "\n"
     ]
    },
    {
     "name": "stderr",
     "output_type": "stream",
     "text": [
      "                                                                                \r"
     ]
    }
   ],
   "source": [
    "train_data.show(2, False)\n",
    "test_data.show(2, False)"
   ]
  },
  {
   "cell_type": "markdown",
   "metadata": {},
   "source": [
    "Train Model 1"
   ]
  },
  {
   "cell_type": "code",
   "execution_count": 11,
   "metadata": {},
   "outputs": [],
   "source": [
    "layers1 = [len(feature), 32, 16, 2] # 2 hidden layers with 32, 16 neurons respectively"
   ]
  },
  {
   "cell_type": "code",
   "execution_count": 12,
   "metadata": {},
   "outputs": [],
   "source": [
    "mlp1 = MultilayerPerceptronClassifier(featuresCol=\"features\", labelCol=\"fraud\", \\\n",
    "                                      layers=layers1, seed=42, \\\n",
    "                                      maxIter=1000, solver='gd')"
   ]
  },
  {
   "cell_type": "code",
   "execution_count": 13,
   "metadata": {},
   "outputs": [
    {
     "name": "stderr",
     "output_type": "stream",
     "text": [
      "25/02/18 17:09:07 WARN InstanceBuilder: Failed to load implementation from:dev.ludovic.netlib.blas.JNIBLAS\n",
      "[Stage 3042:==============>                                         (2 + 6) / 8]\r"
     ]
    }
   ],
   "source": [
    "model1 = mlp1.fit(train_data)"
   ]
  },
  {
   "cell_type": "markdown",
   "metadata": {},
   "source": [
    "Evaluation Metric"
   ]
  },
  {
   "cell_type": "code",
   "execution_count": null,
   "metadata": {},
   "outputs": [
    {
     "name": "stderr",
     "output_type": "stream",
     "text": [
      "                                                                                \r"
     ]
    }
   ],
   "source": [
    "m1_pred = model1.transform(test_data)\n",
    "evaluator = MulticlassClassificationEvaluator(labelCol=\"fraud\", predictionCol=\"prediction\", metricName=\"accuracy\")\n",
    "test_accuracy1 = evaluator.evaluate(m1_pred)"
   ]
  },
  {
   "cell_type": "code",
   "execution_count": 22,
   "metadata": {},
   "outputs": [
    {
     "name": "stdout",
     "output_type": "stream",
     "text": [
      "Model 1 test accuracy: 91.23641406379069%\n"
     ]
    }
   ],
   "source": [
    "print(f\"Model 1 test accuracy: {test_accuracy1*100}%\")\n"
   ]
  },
  {
   "cell_type": "markdown",
   "metadata": {},
   "source": [
    "Train Model 2"
   ]
  },
  {
   "cell_type": "code",
   "execution_count": 16,
   "metadata": {},
   "outputs": [],
   "source": [
    "layers2 = [len(feature), 32, 2] # 1 hidden layers with 32 neurons "
   ]
  },
  {
   "cell_type": "code",
   "execution_count": null,
   "metadata": {},
   "outputs": [],
   "source": [
    "mlp2 = MultilayerPerceptronClassifier(featuresCol=\"features\", labelCol=\"fraud\", \\\n",
    "                                      layers=layers2, seed=42, \\\n",
    "                                      maxIter=1000, solver='gd')"
   ]
  },
  {
   "cell_type": "code",
   "execution_count": 18,
   "metadata": {},
   "outputs": [
    {
     "name": "stderr",
     "output_type": "stream",
     "text": [
      "[Stage 6058:=======>                                                (1 + 7) / 8]\r"
     ]
    }
   ],
   "source": [
    "model2 = mlp2.fit(train_data)"
   ]
  },
  {
   "cell_type": "code",
   "execution_count": 19,
   "metadata": {},
   "outputs": [
    {
     "name": "stderr",
     "output_type": "stream",
     "text": [
      "                                                                                \r"
     ]
    }
   ],
   "source": [
    "m2_pred = model2.transform(test_data)\n",
    "evaluator = MulticlassClassificationEvaluator(labelCol=\"fraud\", predictionCol=\"prediction\", metricName=\"accuracy\")\n",
    "test_accuracy2 = evaluator.evaluate(m2_pred)"
   ]
  },
  {
   "cell_type": "code",
   "execution_count": 23,
   "metadata": {},
   "outputs": [
    {
     "name": "stdout",
     "output_type": "stream",
     "text": [
      "Model 2 test accuracy: 91.70592269607573%\n"
     ]
    }
   ],
   "source": [
    "print(f\"Model 2 test accuracy: {test_accuracy2*100}%\")\n"
   ]
  }
 ],
 "metadata": {
  "kernelspec": {
   "display_name": "base",
   "language": "python",
   "name": "python3"
  },
  "language_info": {
   "codemirror_mode": {
    "name": "ipython",
    "version": 3
   },
   "file_extension": ".py",
   "mimetype": "text/x-python",
   "name": "python",
   "nbconvert_exporter": "python",
   "pygments_lexer": "ipython3",
   "version": "3.11.7"
  }
 },
 "nbformat": 4,
 "nbformat_minor": 2
}
