{
 "cells": [
  {
   "cell_type": "code",
   "execution_count": 1,
   "metadata": {},
   "outputs": [],
   "source": [
    "from pyspark.sql import SparkSession\n",
    "from pyspark.ml.classification import LogisticRegression\n",
    "from pyspark.ml.evaluation import MulticlassClassificationEvaluator\n",
    "from pyspark.ml.feature import VectorAssembler\n",
    "from pyspark.ml.linalg import Vectors\n",
    "from pyspark.sql.functions import rand\n",
    "\n",
    "import pyspark.sql.types as tp"
   ]
  },
  {
   "cell_type": "code",
   "execution_count": null,
   "metadata": {},
   "outputs": [],
   "source": []
  },
  {
   "cell_type": "code",
   "execution_count": 2,
   "metadata": {},
   "outputs": [
    {
     "name": "stderr",
     "output_type": "stream",
     "text": [
      "Setting default log level to \"WARN\".\n",
      "To adjust logging level use sc.setLogLevel(newLevel). For SparkR, use setLogLevel(newLevel).\n",
      "25/02/18 23:33:34 WARN NativeCodeLoader: Unable to load native-hadoop library for your platform... using builtin-java classes where applicable\n"
     ]
    }
   ],
   "source": [
    "spark = SparkSession.builder \\\n",
    "    .master(\"local[*]\") \\\n",
    "    .appName(\"CC Fraud Detection via Logistic Regression\") \\\n",
    "    .getOrCreate()"
   ]
  },
  {
   "cell_type": "code",
   "execution_count": 3,
   "metadata": {},
   "outputs": [],
   "source": [
    "my_schema = tp.StructType([\n",
    "    tp.StructField(name = \"distance_from_home\", dataType=tp.FloatType(), nullable=True),\n",
    "    tp.StructField(name = \"distance_from_last_transaction\", dataType=tp.FloatType(), nullable=True),\n",
    "    tp.StructField(name = \"ratio_to_median_purchase_price\", dataType=tp.FloatType(), nullable=True),\n",
    "    tp.StructField(name = \"repeat_retailer\", dataType=tp.FloatType(), nullable=True),\n",
    "    tp.StructField(name = \"used_chip\", dataType=tp.FloatType(), nullable=True),\n",
    "    tp.StructField(name = \"used_pin_number\", dataType=tp.FloatType(), nullable=True),\n",
    "    tp.StructField(name = \"online_order\", dataType=tp.FloatType(), nullable=True),\n",
    "    tp.StructField(name = \"fraud\", dataType=tp.FloatType(), nullable=True)\n",
    "])"
   ]
  },
  {
   "cell_type": "code",
   "execution_count": 4,
   "metadata": {},
   "outputs": [
    {
     "name": "stdout",
     "output_type": "stream",
     "text": [
      "root\n",
      " |-- distance_from_home: float (nullable = true)\n",
      " |-- distance_from_last_transaction: float (nullable = true)\n",
      " |-- ratio_to_median_purchase_price: float (nullable = true)\n",
      " |-- repeat_retailer: float (nullable = true)\n",
      " |-- used_chip: float (nullable = true)\n",
      " |-- used_pin_number: float (nullable = true)\n",
      " |-- online_order: float (nullable = true)\n",
      " |-- fraud: float (nullable = true)\n",
      "\n",
      "+------------------+------------------------------+------------------------------+---------------+---------+---------------+------------+-----+\n",
      "|distance_from_home|distance_from_last_transaction|ratio_to_median_purchase_price|repeat_retailer|used_chip|used_pin_number|online_order|fraud|\n",
      "+------------------+------------------------------+------------------------------+---------------+---------+---------------+------------+-----+\n",
      "|         57.877857|                       0.31114|                       1.94594|            1.0|      1.0|            0.0|         0.0|  0.0|\n",
      "+------------------+------------------------------+------------------------------+---------------+---------+---------------+------------+-----+\n",
      "only showing top 1 row\n",
      "\n",
      "# of columns: 8\n"
     ]
    },
    {
     "name": "stderr",
     "output_type": "stream",
     "text": [
      "[Stage 1:>                                                          (0 + 8) / 8]\r"
     ]
    },
    {
     "name": "stdout",
     "output_type": "stream",
     "text": [
      "# of rows: 1000000\n"
     ]
    },
    {
     "name": "stderr",
     "output_type": "stream",
     "text": [
      "                                                                                \r"
     ]
    }
   ],
   "source": [
    "df = spark.read.csv('card_transdata.csv',schema= my_schema,header= True)\n",
    "df.printSchema()\n",
    "df.show(1)\n",
    "print(\"# of columns:\",len(df.columns))\n",
    "print(\"# of rows:\", df.count())"
   ]
  },
  {
   "cell_type": "code",
   "execution_count": 5,
   "metadata": {},
   "outputs": [],
   "source": [
    "df.createOrReplaceTempView(\"card_data\")"
   ]
  },
  {
   "cell_type": "markdown",
   "metadata": {},
   "source": [
    "Check if there are any rows with NULL values"
   ]
  },
  {
   "cell_type": "code",
   "execution_count": 6,
   "metadata": {},
   "outputs": [
    {
     "name": "stdout",
     "output_type": "stream",
     "text": [
      "+------------------+------------------------------+------------------------------+---------------+---------+---------------+------------+-----+\n",
      "|distance_from_home|distance_from_last_transaction|ratio_to_median_purchase_price|repeat_retailer|used_chip|used_pin_number|online_order|fraud|\n",
      "+------------------+------------------------------+------------------------------+---------------+---------+---------------+------------+-----+\n",
      "+------------------+------------------------------+------------------------------+---------------+---------+---------------+------------+-----+\n",
      "\n"
     ]
    }
   ],
   "source": [
    "query = \"SELECT * \\\n",
    "         FROM card_data \\\n",
    "         WHERE distance_from_home IS NULL \\\n",
    "            OR distance_from_last_transaction IS NULL \\\n",
    "            OR ratio_to_median_purchase_price IS NULL \\\n",
    "            OR repeat_retailer IS NULL \\\n",
    "            OR used_chip IS NULL \\\n",
    "            OR used_pin_number IS NULL \\\n",
    "            OR online_order IS NULL\"\n",
    "missing_data = spark.sql(query)\n",
    "\n",
    "missing_data.show()"
   ]
  },
  {
   "cell_type": "markdown",
   "metadata": {},
   "source": [
    "Shuffle and split dataset"
   ]
  },
  {
   "cell_type": "code",
   "execution_count": 7,
   "metadata": {},
   "outputs": [
    {
     "name": "stdout",
     "output_type": "stream",
     "text": [
      "Total # of rows: 1000000\n"
     ]
    },
    {
     "name": "stderr",
     "output_type": "stream",
     "text": [
      "                                                                                \r"
     ]
    },
    {
     "name": "stdout",
     "output_type": "stream",
     "text": [
      "Training # of rows: 800330\n"
     ]
    },
    {
     "name": "stderr",
     "output_type": "stream",
     "text": [
      "[Stage 18:===========================================>              (6 + 2) / 8]\r"
     ]
    },
    {
     "name": "stdout",
     "output_type": "stream",
     "text": [
      "Testing # of rows: 199749\n"
     ]
    },
    {
     "name": "stderr",
     "output_type": "stream",
     "text": [
      "                                                                                \r"
     ]
    }
   ],
   "source": [
    "df = df.orderBy(rand(seed = 42))\n",
    "train_data, test_data = df.randomSplit([.8, .2], seed=42)\n",
    "print(\"Total # of rows:\", df.count())\n",
    "print(\"Training # of rows:\", train_data.count())\n",
    "print(\"Testing # of rows:\", test_data.count())"
   ]
  },
  {
   "cell_type": "markdown",
   "metadata": {},
   "source": [
    "Fraud column is the label col, while the rest are feature cols\n",
    "PySpark ML algorithms expect input data in a single vector "
   ]
  },
  {
   "cell_type": "code",
   "execution_count": 8,
   "metadata": {},
   "outputs": [],
   "source": [
    "feature = [\"distance_from_home\", \"distance_from_last_transaction\",\n",
    "                \"ratio_to_median_purchase_price\", \"repeat_retailer\",\n",
    "                \"used_chip\", \"used_pin_number\", \"online_order\"]\n",
    "vectorAssembler = VectorAssembler(inputCols=feature, outputCol=\"features\")"
   ]
  },
  {
   "cell_type": "markdown",
   "metadata": {},
   "source": [
    "Training data and testing data into a single vector"
   ]
  },
  {
   "cell_type": "code",
   "execution_count": 9,
   "metadata": {},
   "outputs": [],
   "source": [
    "train_data = vectorAssembler.transform(train_data).select(\"features\", \"fraud\")\n",
    "test_data = vectorAssembler.transform(test_data).select(\"features\", \"fraud\")\n"
   ]
  },
  {
   "cell_type": "code",
   "execution_count": 10,
   "metadata": {},
   "outputs": [
    {
     "name": "stderr",
     "output_type": "stream",
     "text": [
      "                                                                                \r"
     ]
    },
    {
     "name": "stdout",
     "output_type": "stream",
     "text": [
      "Row(features=SparseVector(7, {0: 0.0305, 1: 14.4541, 2: 0.448}), fraud=0.0)\n"
     ]
    },
    {
     "name": "stderr",
     "output_type": "stream",
     "text": [
      "[Stage 29:=======>                                                  (1 + 7) / 8]\r"
     ]
    },
    {
     "name": "stdout",
     "output_type": "stream",
     "text": [
      "Row(features=SparseVector(7, {0: 0.0317, 1: 0.5118, 2: 2.4324}), fraud=0.0)\n"
     ]
    },
    {
     "name": "stderr",
     "output_type": "stream",
     "text": [
      "                                                                                \r"
     ]
    }
   ],
   "source": [
    "sample_row = train_data.select(\"features\", \"fraud\").first()\n",
    "print(sample_row)\n",
    "sample_row = test_data.select(\"features\", \"fraud\").first()\n",
    "print(sample_row)"
   ]
  },
  {
   "cell_type": "markdown",
   "metadata": {},
   "source": [
    "Train Model"
   ]
  },
  {
   "cell_type": "code",
   "execution_count": 11,
   "metadata": {},
   "outputs": [
    {
     "name": "stderr",
     "output_type": "stream",
     "text": [
      "25/02/18 23:33:56 WARN InstanceBuilder: Failed to load implementation from:dev.ludovic.netlib.blas.JNIBLAS\n",
      "[Stage 108:=======>                                                 (1 + 7) / 8]\r"
     ]
    }
   ],
   "source": [
    "lr = LogisticRegression(featuresCol=\"features\", labelCol=\"fraud\", maxIter=1000, regParam=0.0)\n",
    "lr_model = lr.fit(train_data)"
   ]
  },
  {
   "cell_type": "code",
   "execution_count": 12,
   "metadata": {},
   "outputs": [],
   "source": [
    "train_pred = lr_model.transform(train_data)\n",
    "test_pred = lr_model.transform(test_data)"
   ]
  },
  {
   "cell_type": "code",
   "execution_count": null,
   "metadata": {},
   "outputs": [
    {
     "name": "stderr",
     "output_type": "stream",
     "text": [
      "[Stage 115:=================================================>       (7 + 1) / 8]\r"
     ]
    },
    {
     "name": "stdout",
     "output_type": "stream",
     "text": [
      "Train Accuracy: 0.9587577080951399\n",
      "Test Accuracy: 0.9585999379174301\n"
     ]
    },
    {
     "name": "stderr",
     "output_type": "stream",
     "text": [
      "                                                                                \r"
     ]
    }
   ],
   "source": [
    "evaluator = MulticlassClassificationEvaluator(\n",
    "    labelCol=\"fraud\", \\\n",
    "    predictionCol=\"prediction\", \\\n",
    "    metricName=\"accuracy\"\n",
    ")\n",
    "\n",
    "train_acc = evaluator.evaluate(train_pred)\n",
    "test_acc = evaluator.evaluate(test_pred)\n",
    "\n",
    "print(f\"Train Accuracy: {train_acc}\")\n",
    "print(f\"Test Accuracy: {test_acc}\")"
   ]
  },
  {
   "cell_type": "code",
   "execution_count": 14,
   "metadata": {},
   "outputs": [],
   "source": [
    "spark.stop()"
   ]
  }
 ],
 "metadata": {
  "kernelspec": {
   "display_name": "base",
   "language": "python",
   "name": "python3"
  },
  "language_info": {
   "codemirror_mode": {
    "name": "ipython",
    "version": 3
   },
   "file_extension": ".py",
   "mimetype": "text/x-python",
   "name": "python",
   "nbconvert_exporter": "python",
   "pygments_lexer": "ipython3",
   "version": "3.11.7"
  }
 },
 "nbformat": 4,
 "nbformat_minor": 2
}
